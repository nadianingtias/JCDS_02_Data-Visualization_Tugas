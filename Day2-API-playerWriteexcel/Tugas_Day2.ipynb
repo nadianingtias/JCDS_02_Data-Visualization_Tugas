{
 "cells": [
  {
   "cell_type": "markdown",
   "metadata": {},
   "source": [
    "## Tugas Day 2\n",
    "1. get API sportdb, daftar pemain suatu klub\n",
    "2. input klub apa\n",
    "3. daftar pemain : nama, posisi, usia, negara\n",
    "4. save xlsx, json, csv"
   ]
  },
  {
   "cell_type": "code",
   "execution_count": 5,
   "metadata": {
    "collapsed": true
   },
   "outputs": [],
   "source": [
    "import requests\n",
    "import urllib\n",
    "import xlsxwriter\n",
    "import json\n",
    "import csv"
   ]
  },
  {
   "cell_type": "code",
   "execution_count": 11,
   "metadata": {},
   "outputs": [
    {
     "name": "stdout",
     "output_type": "stream",
     "text": [
      "masukkan nama klub : arsenal\n",
      "============================================================================\n",
      "[['Nama', 'Posisi', 'Usia', 'negara'], ['Hector Bellerin', 'Right Back', 24, 'Spain'], ['Mesut Ozil', 'Midfielder', 31, 'Germany'], ['Emiliano Martinez', 'Goalkeeper', 27, 'Argentina'], ['Calum Chambers', 'Defender', 24, 'England'], ['Matt Macey', 'Goalkeeper', 25, 'England'], ['Ainsley Maitland-Niles', 'Midfielder', 22, 'England'], ['Kieran Tierney', 'Defender', 22, 'Scotland'], ['Alexandre Lacazette', 'Forward', 28, 'France'], ['Shkodran Mustafi', 'Defender', 27, 'Germany'], ['David Luiz', 'Defender', 32, 'Brazil'], ['Sokratis Papastathopoulos', 'Defender', 31, 'Greece'], ['Pierre-Emerick Aubameyang', 'Forward', 30, 'Gabon'], ['Bernd Leno', 'Goalkeeper', 27, 'Germany'], ['Daniel Ceballos', 'Centre Midfielder', 23, 'Spain'], ['Granit Xhaka', 'Midfielder', 27, 'Switzerland'], ['Rob Holding', 'Centre Back', 24, 'England'], ['Sead Kolasinac', 'Defender', 26, 'Bosnia-Herzegovina'], ['Konstantinos Mavropanos', 'Defender', 22, 'Greece'], ['Matteo Guendouzi', 'Centre Midfielder', 20, 'France'], ['Lucas Torreira', 'Defensive Midfielder', 23, 'Uruguay'], ['Unai Emery', 'Manager', 48, 'Spain'], ['Nicolas Pepe ', 'Winger', 24, 'France'], ['Jherson Vergara', 'Defender', 25, 'Colombia'], ['Victor Alvarez', 'Left Back', 26, 'Spain'], ['Maksim Belyayev', 'Defender', 28, 'Russia']]\n"
     ]
    }
   ],
   "source": [
    "url = \"https://www.thesportsdb.com/api/v1/json/1/searchplayers.php?t=\"\n",
    "team = input(\"masukkan nama klub : \")\n",
    "print(\"============================================================================\")\n",
    "\n",
    "url = url+team\n",
    "data = requests.get(url)\n",
    "# print(data)\n",
    "# print(data.json())\n",
    "players = data.json()['player']\n",
    "# ============================================================================\n",
    "if (players) == None :\n",
    "    print(\"maaf tidak ada data\")\n",
    "else:\n",
    "    listPlayer = [['Nama','Posisi', 'Usia', 'negara']]\n",
    "    for  data in players :\n",
    "#     print(data['name'])\n",
    "        listData = []\n",
    "        nama = data['strPlayer']\n",
    "        posisi = data['strPosition']\n",
    "        negara = data['strNationality']\n",
    "        usia = 2019 - int(data['dateBorn'][0:4])\n",
    "        listData.append(nama)\n",
    "        listData.append(posisi)\n",
    "        listData.append(usia)\n",
    "        listData.append(negara)\n",
    "        listPlayer.append(listData)\n",
    "    print(listPlayer)\n",
    "#         print(data['strPlayer'])\n",
    "# ============================================================================\n",
    "# Writing excel file\n",
    "file = xlsxwriter.Workbook('player.xlsx')\n",
    "sheet = file.add_worksheet('data')\n",
    "\n",
    "for i in range( len(listPlayer)):\n",
    "    for j in range(len(listPlayer[0])):\n",
    "        sheet.write(i,j,listPlayer[i][j])\n",
    "        \n",
    "file.close()"
   ]
  }
 ],
 "metadata": {
  "kernelspec": {
   "display_name": "Python 3",
   "language": "python",
   "name": "python3"
  },
  "language_info": {
   "codemirror_mode": {
    "name": "ipython",
    "version": 3
   },
   "file_extension": ".py",
   "mimetype": "text/x-python",
   "name": "python",
   "nbconvert_exporter": "python",
   "pygments_lexer": "ipython3",
   "version": "3.6.1"
  }
 },
 "nbformat": 4,
 "nbformat_minor": 2
}
