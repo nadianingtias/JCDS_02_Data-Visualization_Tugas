{
 "cells": [
  {
   "cell_type": "markdown",
   "metadata": {},
   "source": [
    "## Tugas Day 2\n",
    "1. get API sportdb, daftar pemain suatu klub\n",
    "2. input klub apa\n",
    "3. daftar pemain : nama, posisi, usia, negara\n",
    "4. save xlsx, json, csv"
   ]
  },
  {
   "cell_type": "code",
   "execution_count": 1,
   "metadata": {
    "collapsed": true
   },
   "outputs": [],
   "source": [
    "import requests\n",
    "import urllib\n",
    "import xlsxwriter\n",
    "import json\n",
    "import csv"
   ]
  },
  {
   "cell_type": "code",
   "execution_count": 2,
   "metadata": {},
   "outputs": [
    {
     "name": "stdout",
     "output_type": "stream",
     "text": [
      "masukkan nama klub : dan\n",
      "============================================================================\n",
      "Pablo Ceppellini\n"
     ]
    }
   ],
   "source": [
    "url = \"https://www.thesportsdb.com/api/v1/json/1/searchplayers.php?t=\"\n",
    "team = input(\"masukkan nama klub : \")\n",
    "print(\"============================================================================\")\n",
    "\n",
    "url = url+team\n",
    "data = requests.get(url)\n",
    "# print(data)\n",
    "# print(data.json())\n",
    "players = data.json()['player']\n",
    "# ============================================================================\n",
    "if (players) == None :\n",
    "    print(\"maaf tidak ada data\")\n",
    "else:\n",
    "    listPlayer = [['Nama','Posisi', 'Usia', 'negara']]\n",
    "    for  data in players :\n",
    "#         print(data['name'])\n",
    "        listData = []\n",
    "        nama = data['strPlayer']\n",
    "        posisi = data['strPosition']\n",
    "        negara = data['strNationality']\n",
    "        usia = 2019 - int(data['dateBorn'][0:4])\n",
    "        listData.append(nama)\n",
    "        listData.append(posisi)\n",
    "        listData.append(usia)\n",
    "        listData.append(negara)\n",
    "        listPlayer.append(listData)\n",
    "#     print(listPlayer)\n",
    "        print(data['strPlayer'])\n",
    "# ============================================================================\n",
    "# Writing excel file\n",
    "file = xlsxwriter.Workbook('player.xlsx')\n",
    "sheet = file.add_worksheet('data')\n",
    "\n",
    "for i in range( len(listPlayer)):\n",
    "    for j in range(len(listPlayer[0])):\n",
    "        sheet.write(i,j,listPlayer[i][j])\n",
    "        \n",
    "file.close()"
   ]
  },
  {
   "cell_type": "code",
   "execution_count": 8,
   "metadata": {
    "collapsed": true
   },
   "outputs": [],
   "source": [
    "# ============================================================================\n",
    "# Writing CSV file\n",
    "your_csv_file = open('outputData2.csv', 'w', encoding='utf8', newline='')\n",
    "csvWr = csv.writer(your_csv_file, quoting=csv.QUOTE_ALL)\n",
    "\n",
    "for rownum in range(len(listPlayer)):\n",
    "    csvWr.writerow(listPlayer[rownum])\n",
    "\n",
    "your_csv_file.close()"
   ]
  },
  {
   "cell_type": "code",
   "execution_count": 10,
   "metadata": {},
   "outputs": [
    {
     "name": "stdout",
     "output_type": "stream",
     "text": [
      "[{'Nama': 'i', 'Posisi': 'd', 'Usia': 'T', 'negara': 'e'}, {'Nama': 'i', 'Posisi': 'd', 'Usia': 'T', 'negara': 'e'}, {'Nama': 'i', 'Posisi': 'd', 'Usia': 'S', 'negara': 'o'}, {'Nama': 'i', 'Posisi': 'd', 'Usia': 'P', 'negara': 'l'}, {'Nama': 's', 'Posisi': 't', 'Usia': 'r', 'negara': 'N'}, {'Nama': 's', 'Posisi': 't', 'Usia': 'r', 'negara': 'P'}, {'Nama': 's', 'Posisi': 't', 'Usia': 'r', 'negara': 'T'}, {'Nama': 's', 'Posisi': 't', 'Usia': 'r', 'negara': 'T'}, {'Nama': 's', 'Posisi': 't', 'Usia': 'r', 'negara': 'S'}, {'Nama': 'i', 'Posisi': 'n', 'Usia': 't', 'negara': 'S'}, {'Nama': 'd', 'Posisi': 'a', 'Usia': 't', 'negara': 'e'}, {'Nama': 's', 'Posisi': 't', 'Usia': 'r', 'negara': 'N'}, {'Nama': 'd', 'Posisi': 'a', 'Usia': 't', 'negara': 'e'}, {'Nama': 's', 'Posisi': 't', 'Usia': 'r', 'negara': 'S'}, {'Nama': 's', 'Posisi': 't', 'Usia': 'r', 'negara': 'W'}, {'Nama': 's', 'Posisi': 't', 'Usia': 'r', 'negara': 'O'}, {'Nama': 's', 'Posisi': 't', 'Usia': 'r', 'negara': 'K'}, {'Nama': 's', 'Posisi': 't', 'Usia': 'r', 'negara': 'A'}, {'Nama': 's', 'Posisi': 't', 'Usia': 'r', 'negara': 'B'}, {'Nama': 's', 'Posisi': 't', 'Usia': 'r', 'negara': 'D'}, {'Nama': 's', 'Posisi': 't', 'Usia': 'r', 'negara': 'D'}, {'Nama': 's', 'Posisi': 't', 'Usia': 'r', 'negara': 'D'}, {'Nama': 's', 'Posisi': 't', 'Usia': 'r', 'negara': 'D'}, {'Nama': 's', 'Posisi': 't', 'Usia': 'r', 'negara': 'D'}, {'Nama': 's', 'Posisi': 't', 'Usia': 'r', 'negara': 'D'}, {'Nama': 's', 'Posisi': 't', 'Usia': 'r', 'negara': 'D'}, {'Nama': 's', 'Posisi': 't', 'Usia': 'r', 'negara': 'D'}, {'Nama': 's', 'Posisi': 't', 'Usia': 'r', 'negara': 'D'}, {'Nama': 's', 'Posisi': 't', 'Usia': 'r', 'negara': 'D'}, {'Nama': 's', 'Posisi': 't', 'Usia': 'r', 'negara': 'D'}, {'Nama': 's', 'Posisi': 't', 'Usia': 'r', 'negara': 'D'}, {'Nama': 's', 'Posisi': 't', 'Usia': 'r', 'negara': 'D'}, {'Nama': 's', 'Posisi': 't', 'Usia': 'r', 'negara': 'D'}, {'Nama': 's', 'Posisi': 't', 'Usia': 'r', 'negara': 'D'}, {'Nama': 's', 'Posisi': 't', 'Usia': 'r', 'negara': 'G'}, {'Nama': 's', 'Posisi': 't', 'Usia': 'r', 'negara': 'S'}, {'Nama': 's', 'Posisi': 't', 'Usia': 'r', 'negara': 'P'}, {'Nama': 's', 'Posisi': 't', 'Usia': 'r', 'negara': 'C'}, {'Nama': 's', 'Posisi': 't', 'Usia': 'r', 'negara': 'F'}, {'Nama': 's', 'Posisi': 't', 'Usia': 'r', 'negara': 'W'}, {'Nama': 's', 'Posisi': 't', 'Usia': 'r', 'negara': 'T'}, {'Nama': 's', 'Posisi': 't', 'Usia': 'r', 'negara': 'I'}, {'Nama': 's', 'Posisi': 't', 'Usia': 'r', 'negara': 'Y'}, {'Nama': 's', 'Posisi': 't', 'Usia': 'r', 'negara': 'H'}, {'Nama': 's', 'Posisi': 't', 'Usia': 'r', 'negara': 'W'}, {'Nama': 'i', 'Posisi': 'n', 'Usia': 't', 'negara': 'L'}, {'Nama': 's', 'Posisi': 't', 'Usia': 'r', 'negara': 'T'}, {'Nama': 's', 'Posisi': 't', 'Usia': 'r', 'negara': 'C'}, {'Nama': 's', 'Posisi': 't', 'Usia': 'r', 'negara': 'R'}, {'Nama': 's', 'Posisi': 't', 'Usia': 'r', 'negara': 'B'}, {'Nama': 's', 'Posisi': 't', 'Usia': 'r', 'negara': 'F'}, {'Nama': 's', 'Posisi': 't', 'Usia': 'r', 'negara': 'F'}, {'Nama': 's', 'Posisi': 't', 'Usia': 'r', 'negara': 'F'}, {'Nama': 's', 'Posisi': 't', 'Usia': 'r', 'negara': 'F'}, {'Nama': 's', 'Posisi': 't', 'Usia': 'r', 'negara': 'C'}, {'Nama': 's', 'Posisi': 't', 'Usia': 'r', 'negara': 'L'}]\n"
     ]
    }
   ],
   "source": [
    "# ============================================================================\n",
    "# Writing CSV file\n",
    "\n",
    "#manipulasi pembentukan dictionary dari list !\n",
    "out = []\n",
    "for i in data:\n",
    "    out.append(dict(zip(listPlayer[0], i)))\n",
    "out = out[1:]\n",
    "print(out)\n",
    "\n",
    "# Serialize the list of dicts to JSON\n",
    "j = json.dumps(out)\n",
    "# Write to file\n",
    "with open('outputDataJSON.json', 'w') as file:\n",
    "    file.write(j)"
   ]
  }
 ],
 "metadata": {
  "kernelspec": {
   "display_name": "Python 3",
   "language": "python",
   "name": "python3"
  },
  "language_info": {
   "codemirror_mode": {
    "name": "ipython",
    "version": 3
   },
   "file_extension": ".py",
   "mimetype": "text/x-python",
   "name": "python",
   "nbconvert_exporter": "python",
   "pygments_lexer": "ipython3",
   "version": "3.6.1"
  }
 },
 "nbformat": 4,
 "nbformat_minor": 2
}
