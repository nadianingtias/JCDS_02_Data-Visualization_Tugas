{
 "cells": [
  {
   "cell_type": "markdown",
   "metadata": {},
   "source": [
    "# TUGAS\n",
    "### akses api zomato untuk inputan user cari soto di kota tertentu.\n",
    "\n",
    "1. user input nama makanan\n",
    "2. user input nama kota\n",
    "3. aplikasi menampilkn restaurant di dalam kota tersebut"
   ]
  },
  {
   "cell_type": "code",
   "execution_count": 1,
   "metadata": {
    "collapsed": true
   },
   "outputs": [],
   "source": [
    "import requests\n"
   ]
  },
  {
   "cell_type": "code",
   "execution_count": 4,
   "metadata": {
    "collapsed": true
   },
   "outputs": [],
   "source": [
    "# ZOMATO\n",
    "cityID = 11052 # ID kota Bandung\n",
    "host = f'https://developers.zomato.com/api/v2.1/search?entity_id={cityID}&entity_type=city&q='\n",
    "apiKeyZomato = \"72bfa73f6befeb8316820927aaff84a4\"\n",
    "headInfo = {\n",
    "    'user-key' : apiKeyZomato\n",
    "}"
   ]
  },
  {
   "cell_type": "code",
   "execution_count": 28,
   "metadata": {
    "scrolled": true
   },
   "outputs": [
    {
     "name": "stdout",
     "output_type": "stream",
     "text": [
      "Yuk Cari Makanan apa di Bandung : sate\n",
      "** Sate DJ \t Very Good \t Andir Jl. Jend. Sudirman, Andir, Bandung\n",
      "** Sate ABG \t Not rated \t Batununggal Jl. Sukabumi No. 28, Batununggal, Bandung\n",
      "** Sate Taichan Bengawan \t Very Good \t Riau Jl. Bengawan No. 62, Riau, Bandung\n",
      "** Warung Sate HM Harris \t Good \t Sumurbandung Jl. Asia Afrika No. 155, Sumurbandung, Bandung\n",
      "** Sate Jando Gasibu \t Very Good \t Riau Jl. Diponegoro, Riau, Bandung\n",
      "** RM Sate Maulana Yusuf \t Good \t Bandung Wetan Jl. Maulana Yusuf No. 21, Bandung Wetan, Bandung\n",
      "** Warung Sate Pak Gino \t Good \t Sumurbandung Jl. Sunda No. 76, Sumurbandung, Bandung\n",
      "** Sate Maulana Yusuf \t Average \t Riau Junction, Riau Riau Junction, Lantai 3, Food Life, Jl. L.L.R.E. Martadinata No. 17-21, Riau, Bandung\n",
      "** Sate Wibisana \t Good \t Sudirman Street Day & Night Market, Astanaanyar Sudirman Street Day & Night Market, Jl. Sudirman No. 107, Astanaanyar, Bandung\n",
      "** Saung Balibu \t Good \t Lembang Jl. Tangkuban Perahu No. 168, Lembang, Bandung\n",
      "** Sate Hadori \t Good \t Pasteur Jl. Lemahnendeut No. 8, Pasteur, Bandung\n",
      "** Sate Maulana Yusuf \t Average \t Paskal Food Market, Andir Paskal Food Market, Jl. Pasir Kaliki No. 25-27, Andir, Bandung\n",
      "** Atok Rizal Jagonya Sate \t Average \t Gegerkalong Jl. DR. Setiabudhi No.119, Gegerkalong, Bandung\n",
      "** Warung Sate Shinta \t Average \t Pasteur Jl. Dr. Djunjunan No. 164, Pasteur, Bandung\n",
      "** Rumah Makan Banyumas \t Average \t Dago Jl. Ir. H. Djuanda No. 174, Dago, Bandung\n",
      "** Sate Maranggi Pak Nur \t Not rated \t Lengkong Jl. Lengkong Besar No. 33, Lengkong, Bandung\n",
      "** Sate Ayu \t Not rated \t KrangKring, Riau KrangKring, Jl. Ciliwung No. 1-3, Riau, Bandung\n",
      "** Sate Pak Kumis 999 \t Average \t Dago Jl. Ir. H. Djuanda No. 462, Dago, Bandung\n",
      "** Sate Maranggi & Kikil \t Good \t Floating Market, Lembang Floating Market, Jl. Grand Hotel No. 33E, Lembang, Bandung\n",
      "** Rumah Sate Maranggi \t Not rated \t Braga Jl. Punawarman No. 4, Braga, Bandung\n"
     ]
    }
   ],
   "source": [
    "myFood = input(\"Yuk Cari Makanan apa di Bandung : \")\n",
    "url = host + myFood\n",
    "\n",
    "data = requests.get(url, headers = headInfo)\n",
    "restaurants = data.json()['restaurants']\n",
    "# print(restaurants)\n",
    "for i in restaurants:\n",
    "    resto = i['restaurant']\n",
    "    print(\"**\",resto['name'],\"\\t\",resto['user_rating']['rating_text'],'\\t', resto['location']['locality'], resto['location']['address'])"
   ]
  },
  {
   "cell_type": "code",
   "execution_count": 20,
   "metadata": {},
   "outputs": [
    {
     "name": "stdout",
     "output_type": "stream",
     "text": [
      "[5, 1, 2, 3]\n"
     ]
    }
   ],
   "source": []
  }
 ],
 "metadata": {
  "kernelspec": {
   "display_name": "Python 3",
   "language": "python",
   "name": "python3"
  },
  "language_info": {
   "codemirror_mode": {
    "name": "ipython",
    "version": 3
   },
   "file_extension": ".py",
   "mimetype": "text/x-python",
   "name": "python",
   "nbconvert_exporter": "python",
   "pygments_lexer": "ipython3",
   "version": "3.6.1"
  }
 },
 "nbformat": 4,
 "nbformat_minor": 2
}
