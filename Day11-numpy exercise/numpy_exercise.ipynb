{
 "cells": [
  {
   "cell_type": "code",
   "execution_count": 2,
   "metadata": {},
   "outputs": [],
   "source": [
    "import numpy as np"
   ]
  },
  {
   "cell_type": "code",
   "execution_count": 4,
   "metadata": {},
   "outputs": [
    {
     "name": "stdout",
     "output_type": "stream",
     "text": [
      "1.12.1\n"
     ]
    }
   ],
   "source": [
    "# Import numpy as np and see the version\n",
    "\n",
    "print(np.__version__)"
   ]
  },
  {
   "cell_type": "code",
   "execution_count": 32,
   "metadata": {},
   "outputs": [
    {
     "name": "stdout",
     "output_type": "stream",
     "text": [
      "[0 1 2 3 4 5 6 7 8 9]\n"
     ]
    }
   ],
   "source": [
    "# create a 1D array\n",
    "array1 = np.arange(10)\n",
    "print(array1)"
   ]
  },
  {
   "cell_type": "code",
   "execution_count": 12,
   "metadata": {},
   "outputs": [
    {
     "name": "stdout",
     "output_type": "stream",
     "text": [
      "[[ True  True  True]\n",
      " [ True  True  True]\n",
      " [ True  True  True]]\n"
     ]
    }
   ],
   "source": [
    "# create a boolean array\n",
    "bolArray = np.full((3,3), 1, dtype=bool)\n",
    "print(bolArray)"
   ]
  },
  {
   "cell_type": "code",
   "execution_count": 33,
   "metadata": {},
   "outputs": [
    {
     "name": "stdout",
     "output_type": "stream",
     "text": [
      "[1 3 5 7 9]\n"
     ]
    }
   ],
   "source": [
    "#  extract items that satisfy a given condition from 1D array\n",
    "extracted = array1[array1 % 2 != 0 ]\n",
    "print(extracted)\n"
   ]
  },
  {
   "cell_type": "code",
   "execution_count": 39,
   "metadata": {},
   "outputs": [
    {
     "name": "stdout",
     "output_type": "stream",
     "text": [
      "[ 0 -1  2 -1  4 -1  6 -1  8 -1]\n",
      "[ 0 -1  2 -1  4 -1  6 -1  8 -1]\n"
     ]
    }
   ],
   "source": [
    "# replace items that satisfy a condition with another value in numpy array\n",
    "array1[array1 % 2 == 1] = -1\n",
    "print(array1)\n",
    "array1 = np.arange(10)\n",
    "\n",
    "# replace items that satisfy a condition without affecting the original array\n",
    "replaced = np.where(array1 % 2 != 0, -1, array1)\n",
    "print(replaced)\n"
   ]
  },
  {
   "cell_type": "code",
   "execution_count": 41,
   "metadata": {},
   "outputs": [
    {
     "name": "stdout",
     "output_type": "stream",
     "text": [
      "[0 1 2 3 4 5 6 7 8 9]\n"
     ]
    },
    {
     "data": {
      "text/plain": [
       "array([[0, 1, 2, 3, 4],\n",
       "       [5, 6, 7, 8, 9]])"
      ]
     },
     "execution_count": 41,
     "metadata": {},
     "output_type": "execute_result"
    }
   ],
   "source": [
    "print(array1)\n",
    "# reshape an array\n",
    "\n",
    "array1.reshape(2,-1)"
   ]
  },
  {
   "cell_type": "code",
   "execution_count": 44,
   "metadata": {},
   "outputs": [
    {
     "name": "stdout",
     "output_type": "stream",
     "text": [
      "[[ 1  2  3]\n",
      " [10 11 12]]\n"
     ]
    }
   ],
   "source": [
    "# stack two arrays vertically\n",
    "x = [1,2,3]\n",
    "y = [10,11,12]\n",
    "\n",
    "z = np.vstack([x,y])\n",
    "print(z)"
   ]
  },
  {
   "cell_type": "code",
   "execution_count": 46,
   "metadata": {},
   "outputs": [
    {
     "name": "stdout",
     "output_type": "stream",
     "text": [
      "[ 1  2  3 10 11 12]\n"
     ]
    }
   ],
   "source": [
    "# stack two arrays horizontally?\n",
    "# Difficulty Level: L2\n",
    "\n",
    "x = [1,2,3]\n",
    "y = [10,11,12]\n",
    "\n",
    "z = np.hstack([x,y])\n",
    "print(z)"
   ]
  },
  {
   "cell_type": "code",
   "execution_count": 52,
   "metadata": {},
   "outputs": [
    {
     "name": "stdout",
     "output_type": "stream",
     "text": [
      "[1 2 3]\n",
      "[1 1 1 2 2 2 3 3 3 1 2 3 1 2 3 1 2 3]\n"
     ]
    }
   ],
   "source": [
    "# 10. How to generate custom sequences in numpy without hardcoding?\n",
    "a =  np.array([1,2,3])\n",
    "print(a)\n",
    "one = np.repeat(a,3)\n",
    "two = np.tile(a,3)\n",
    "print(np.r_[one, two])"
   ]
  },
  {
   "cell_type": "code",
   "execution_count": 56,
   "metadata": {},
   "outputs": [
    {
     "name": "stdout",
     "output_type": "stream",
     "text": [
      "[2 4]\n"
     ]
    }
   ],
   "source": [
    "# How to get the common items between two python numpy arrays\n",
    "# INTERSECT\n",
    "\n",
    "a = np.array([1,2,3,2,3,4,3,4,5,6])\n",
    "b = np.array([7,2,10,2,7,4,9,4,9,8])\n",
    "\n",
    "inter = np.intersect1d(a,b)\n",
    "print(inter)"
   ]
  },
  {
   "cell_type": "code",
   "execution_count": 57,
   "metadata": {},
   "outputs": [
    {
     "data": {
      "text/plain": [
       "array([1, 2, 3, 4])"
      ]
     },
     "execution_count": 57,
     "metadata": {},
     "output_type": "execute_result"
    }
   ],
   "source": [
    "# 12. How to remove from one array those items that exist in another?\n",
    "# A-B\n",
    "\n",
    "a = np.array([1,2,3,4,5])\n",
    "b = np.array([5,6,7,8,9])\n",
    "\n",
    "np.setdiff1d(a,b)"
   ]
  },
  {
   "cell_type": "code",
   "execution_count": 60,
   "metadata": {},
   "outputs": [
    {
     "data": {
      "text/plain": [
       "(array([1, 3, 5, 7], dtype=int64),)"
      ]
     },
     "execution_count": 60,
     "metadata": {},
     "output_type": "execute_result"
    }
   ],
   "source": [
    "# How to get the positions where elements of two arrays match?\n",
    "\n",
    "\n",
    "a = np.array([1,2,3,2,3,4,3,4,5,6])\n",
    "b = np.array([7,2,10,2,7,4,9,4,9,8])\n",
    "\n",
    "np.where( b == a )\n",
    "# array a dan b memiliki value yang sama di index berikut ini"
   ]
  },
  {
   "cell_type": "code",
   "execution_count": 61,
   "metadata": {},
   "outputs": [
    {
     "name": "stdout",
     "output_type": "stream",
     "text": [
      "Object `array` not found.\n"
     ]
    }
   ],
   "source": [
    "# 4. How to extract all numbers between a given range from a numpy array?\n"
   ]
  },
  {
   "cell_type": "code",
   "execution_count": 67,
   "metadata": {},
   "outputs": [
    {
     "data": {
      "text/plain": [
       "array([ 6,  9, 10])"
      ]
     },
     "execution_count": 67,
     "metadata": {},
     "output_type": "execute_result"
    }
   ],
   "source": [
    "# 4. How to extract all numbers between a given range from a numpy array\n",
    "a = np.array([2, 6, 1, 9, 10, 3, 27])\n",
    "x = np.where((a <=10) & (a >=5))\n",
    "a[x]"
   ]
  },
  {
   "cell_type": "code",
   "execution_count": 81,
   "metadata": {},
   "outputs": [
    {
     "data": {
      "text/plain": [
       "array([ 7.,  8.,  9.,  8.,  9.,  7.,  5.])"
      ]
     },
     "execution_count": 81,
     "metadata": {},
     "output_type": "execute_result"
    }
   ],
   "source": [
    "# 15. How to make a python function that handles scalars to work on numpy arrays?\n",
    "def maxx(x,y,z):\n",
    "    \"get the max of two items\"\n",
    "    if (x>y) & (x>z):\n",
    "        return x\n",
    "    elif (y>x) & (y>z):\n",
    "        return y\n",
    "    else:\n",
    "        return z\n",
    "\n",
    "maxx(1,5,2)\n",
    "\n",
    "# membuat suatu fungsi yang memetakan suatu array dari numpy array\n",
    "pair_max = np.vectorize(maxx, otypes = [float])\n",
    "\n",
    "a = np.array([5, 7, 9, 8, 6, 4, 5])\n",
    "b = np.array([6, 3, 4, 8, 9, 7, 1])\n",
    "c = np.array([7, 8, 4, 8, 9, 7, 1])\n",
    "\n",
    "pair_max(a,b,c)"
   ]
  },
  {
   "cell_type": "code",
   "execution_count": null,
   "metadata": {},
   "outputs": [],
   "source": [
    "# 16. How to swap two columns in a 2d numpy array"
   ]
  }
 ],
 "metadata": {
  "kernelspec": {
   "display_name": "Python 3",
   "language": "python",
   "name": "python3"
  },
  "language_info": {
   "codemirror_mode": {
    "name": "ipython",
    "version": 3
   },
   "file_extension": ".py",
   "mimetype": "text/x-python",
   "name": "python",
   "nbconvert_exporter": "python",
   "pygments_lexer": "ipython3",
   "version": "3.6.1"
  }
 },
 "nbformat": 4,
 "nbformat_minor": 4
}
