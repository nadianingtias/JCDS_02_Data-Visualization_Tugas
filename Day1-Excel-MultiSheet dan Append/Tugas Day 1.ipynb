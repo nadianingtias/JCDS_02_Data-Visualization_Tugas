{
 "cells": [
  {
   "cell_type": "code",
   "execution_count": 2,
   "metadata": {
    "collapsed": true
   },
   "outputs": [],
   "source": [
    "import xlrd  #untuk read file excel\n",
    "import csv\n",
    "import json\n",
    "from pprint import pprint\n",
    "import xlsxwriter #untuk menulis fie excel"
   ]
  },
  {
   "cell_type": "markdown",
   "metadata": {},
   "source": [
    "## Program Menulis File Excel dari JSON dan CSV\n",
    "### 1 WorkBook, 2 Sheet\n"
   ]
  },
  {
   "cell_type": "code",
   "execution_count": 41,
   "metadata": {},
   "outputs": [
    {
     "name": "stdout",
     "output_type": "stream",
     "text": [
      "['No', 'Nama', 'Kota']\n",
      "[['1.0', 'Andi', 'Semarang'], ['2.0', 'Budi', 'Surabaya'], ['3.0', 'Caca', 'Jakarta']]\n",
      "No\n",
      "Nama\n",
      "Kota\n",
      "[['No', 'Nama', 'Kota'], ['1.0', 'Andi', 'Semarang'], ['2.0', 'Budi', 'Surabaya'], ['3.0', 'Caca', 'Jakarta']]\n",
      "[['No', 'Nama', 'Kota'], [], ['1.0', 'Andi', 'Semarang'], [], ['2.0', 'Budi', 'Surabaya'], [], ['3.0', 'Caca', 'Jakarta'], []]\n",
      "[['No', 'Nama', 'Kota'], ['1.0', 'Andi', 'Semarang'], ['2.0', 'Budi', 'Surabaya'], ['3.0', 'Caca', 'Jakarta']]\n"
     ]
    }
   ],
   "source": [
    "#READ JSON\n",
    "with open(\"data2.json\", 'r') as file:\n",
    "    out = json.load(file)\n",
    "#     print(type(out))\n",
    "#     print(out)\n",
    "#============================================================================\n",
    "#METHOD\n",
    "#mendapatkan list daftar KOLOM dari keys JSON yang diload\n",
    "def getHeaderFromJSON(jsonLOAD):\n",
    "    listHeader = list(jsonLOAD[0].keys())\n",
    "    return listHeader\n",
    "\n",
    "#mendapatkan list data dalam json\n",
    "def getDataListFromJSON(jsonLOAD):\n",
    "    data = []\n",
    "    for i in jsonLOAD:\n",
    "#         print(i.values())\n",
    "        data.append(list(i.values()))\n",
    "    return data\n",
    "#============================================================================\n",
    "# JSON - LIST HEADER & LIST DATA - WRITE HEADER & WRITE DATA\n",
    "header = getHeaderFromJSON(out)\n",
    "print(header)\n",
    "data = getDataListFromJSON(out)\n",
    "print(data)\n",
    "\n",
    "workBook = xlsxwriter.Workbook('1workbook2sheet.xlsx')\n",
    "sheeta = workBook.add_worksheet(\"DataKaryawan\")\n",
    "\n",
    "# WRITE HEADER in EXCEL\n",
    "for i in header:\n",
    "    print(i)\n",
    "    sheeta.write(0,header.index(i),i)\n",
    "# WRITE DATA in EXCEL\n",
    "for row in data:\n",
    "    for col in row:\n",
    "        sheeta.write(data.index(row)+1,row.index(col),col)\n",
    "\n",
    "#============================================================================\n",
    "sheetb = workBook.add_worksheet(\"DataKaryawanFromCSV\")\n",
    "# READ CSV\n",
    "with open('outputCSV_tutor.csv', 'r') as file:\n",
    "    csv_reader = csv.reader(file)\n",
    "#     print(list(csv_reader))\n",
    "    listData = list(csv_reader)\n",
    "    print(listData)\n",
    "    \n",
    "# WRITE ALL DATA INTO EXCEL\n",
    "for row in listData:\n",
    "    for col in row:\n",
    "        sheetb.write(listData.index(row),row.index(col),col)\n",
    "#============================================================================\n",
    "sheetc = workBook.add_worksheet(\"DataKaryawanFromCSV2\")\n",
    "# READ CSV\n",
    "with open('outputData2.csv', 'r') as file:\n",
    "    csv_reader = csv.reader(file)\n",
    "#     print(list(csv_reader))\n",
    "    listData = list(csv_reader)\n",
    "    print(listData)\n",
    "#     print(len(listData))\n",
    "    listData = list(filter(lambda a : len(a) > 0, listData))\n",
    "    print(listData)\n",
    "    \n",
    "# WRITE ALL DATA INTO EXCEL\n",
    "for row in listData:\n",
    "    for col in row:\n",
    "        sheetc.write(listData.index(row),row.index(col),col)\n",
    "\n",
    "workBook.close()"
   ]
  },
  {
   "cell_type": "markdown",
   "metadata": {},
   "source": [
    "## Program Menambah Konten Excel via Console input"
   ]
  },
  {
   "cell_type": "code",
   "execution_count": 3,
   "metadata": {},
   "outputs": [
    {
     "name": "stdout",
     "output_type": "stream",
     "text": [
      "['No', 'Nama', 'Kota']\n",
      "['1.0', 'Andi', 'Semarang']\n",
      "['2.0', 'Budi', 'Surabaya']\n",
      "['3.0', 'Caca', 'Jakarta']\n",
      "Nama : Nadia\n",
      "Kota : surabaya\n",
      "[4, 'Nadia', 'surabaya']\n",
      "input lagi ? : nadia \n",
      "[['No', 'Nama', 'Kota'], ['1.0', 'Andi', 'Semarang'], ['2.0', 'Budi', 'Surabaya'], ['3.0', 'Caca', 'Jakarta'], [4, 'Nadia', 'surabaya']]\n"
     ]
    }
   ],
   "source": [
    "## TUGAS - input console - kemudian append ke dalam file excel\n",
    "\n",
    "file2 = xlrd.open_workbook('file.xlsx')\n",
    "sheet2 = file2.sheet_by_name('DataKaryawan')\n",
    "\n",
    "fullData = []\n",
    "for i in range(sheet2.nrows):\n",
    "    print(sheet2.row_values(i))\n",
    "    exist = sheet2.row_values(i)\n",
    "    fullData.append(exist)\n",
    "# print(fullData)\n",
    "\n",
    "#============================================================================\n",
    "# SOMETHING we append, ditambahkan disini\n",
    "\n",
    "dataTambahan = []\n",
    "counter = len(fullData[-1][0])\n",
    "again = 'y'\n",
    "while(again=='y' or again=='Y'):\n",
    "    counter+=1\n",
    "    temList =[]\n",
    "    temList.append(counter)\n",
    "    temList.append(input(\"Nama : \"))\n",
    "    temList.append(input(\"Kota : \"))\n",
    "    print(temList)\n",
    "    dataTambahan.append(temList)\n",
    "    again = input(\"input lagi ? : \")\n",
    "    \n",
    "# print(dataTambahan)\n",
    "        \n",
    "#============================================================================\n",
    "dataAll = fullData + dataTambahan\n",
    "print(dataAll)\n",
    "\n",
    "workBook = xlsxwriter.Workbook('fileAppend.xlsx')\n",
    "sheeta = workBook.add_worksheet(\"DataKaryawan\")\n",
    "\n",
    "for row in dataAll:\n",
    "#     print(row)\n",
    "    for col in row:\n",
    "#         print(col)\n",
    "        sheeta.write(dataAll.index(row), row.index(col), col)\n",
    "\n",
    "workBook.close()"
   ]
  }
 ],
 "metadata": {
  "kernelspec": {
   "display_name": "Python 3",
   "language": "python",
   "name": "python3"
  },
  "language_info": {
   "codemirror_mode": {
    "name": "ipython",
    "version": 3
   },
   "file_extension": ".py",
   "mimetype": "text/x-python",
   "name": "python",
   "nbconvert_exporter": "python",
   "pygments_lexer": "ipython3",
   "version": "3.6.1"
  }
 },
 "nbformat": 4,
 "nbformat_minor": 2
}
